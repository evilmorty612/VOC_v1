{
 "cells": [
  {
   "cell_type": "code",
   "execution_count": 1,
   "metadata": {},
   "outputs": [
    {
     "name": "stdout",
     "output_type": "stream",
     "text": [
      " Volume in drive C is Windows\n",
      " Volume Serial Number is 182E-1B2C\n",
      "\n",
      " Directory of C:\\Users\\yash\\northcorp\n",
      "\n",
      "24-07-2019  23:49    <DIR>          .\n",
      "24-07-2019  23:49    <DIR>          ..\n",
      "24-07-2019  23:49    <DIR>          .ipynb_checkpoints\n",
      "22-07-2019  13:23           106,438 Automobile_Insurance_Company_Complaint_Rankings__Beginning_2009.csv\n",
      "05-07-2019  00:15        15,808,539 consolidated data.xlsx\n",
      "27-04-2016  04:03       175,385,569 consumer_complaints.csv\n",
      "03-07-2019  20:26           136,522 dealer.csv\n",
      "03-07-2019  20:26            67,627 delivery.csv\n",
      "03-07-2019  20:26             1,607 finance.csv\n",
      "24-07-2019  02:22         4,884,784 model.h5\n",
      "24-07-2019  16:37             2,026 model.json\n",
      "24-07-2019  03:14         4,884,792 model1.h5\n",
      "24-07-2019  16:44         3,577,976 model2.h5\n",
      "24-07-2019  16:51             2,026 model2.json\n",
      "24-07-2019  16:51         4,876,384 modeltester.h5\n",
      "23-07-2019  13:55           772,227 newtrain.csv\n",
      "24-07-2019  17:12           486,363 outfile\n",
      "24-07-2019  17:17           584,544 output.txt\n",
      "03-07-2019  20:26           278,834 product.csv\n",
      "03-07-2019  20:26           152,644 service.csv\n",
      "24-07-2019  16:05           472,592 train.csv\n",
      "24-07-2019  23:49               555 train_data.ipynb\n",
      "24-07-2019  17:18           160,556 train1.ipynb\n",
      "24-07-2019  16:38           522,295 trainpred.csv\n",
      "24-07-2019  19:29           729,468 VOC_part1.ipynb\n",
      "24-07-2019  16:36         4,876,384 weights.h5\n",
      "15-03-2018  02:48     2,256,858,740 wiki-news-300d-1M-subword.vec\n",
      "24-07-2019  17:11           572,705 your_file.txt\n",
      "              25 File(s)  2,476,202,197 bytes\n",
      "               3 Dir(s)  463,575,576,576 bytes free\n"
     ]
    }
   ],
   "source": []
  },
  {
   "cell_type": "code",
   "execution_count": 2,
   "metadata": {},
   "outputs": [],
   "source": [
    "import pandas as pd\n",
    "xcelmain=pd.ExcelFile(\"consolidated data.xlsx\")"
   ]
  },
  {
   "cell_type": "code",
   "execution_count": 19,
   "metadata": {},
   "outputs": [
    {
     "data": {
      "text/plain": [
       "['Sheet1',\n",
       " 'Sheet2',\n",
       " 'retail1000',\n",
       " 'Sheet3',\n",
       " 'part',\n",
       " 'delay',\n",
       " 'vehicle',\n",
       " 'discount',\n",
       " 'Problem',\n",
       " 'sound',\n",
       " 'batt',\n",
       " 'clutch',\n",
       " 'gear',\n",
       " 'heat',\n",
       " 'oil,air,engine,brake,pick',\n",
       " 'leak',\n",
       " 'service,serv',\n",
       " 'delivery',\n",
       " 'tyre,tyer,tire',\n",
       " 'KMPL,mileage,KMperL,average',\n",
       " 'staff',\n",
       " 'dealer',\n",
       " 'salesman,sales man,behaviour',\n",
       " 'sales',\n",
       " 'response']"
      ]
     },
     "execution_count": 19,
     "metadata": {},
     "output_type": "execute_result"
    }
   ],
   "source": [
    "xcelmain.sheet_names"
   ]
  },
  {
   "cell_type": "code",
   "execution_count": 16,
   "metadata": {},
   "outputs": [],
   "source": [
    "sheet_to_df_map = {}\n",
    "for sheet_name in xcelmain.sheet_names:\n",
    "    sheet_to_df_map[sheet_name] = xcelmain.parse(sheet_name,header=None)"
   ]
  },
  {
   "cell_type": "code",
   "execution_count": 29,
   "metadata": {},
   "outputs": [
    {
     "data": {
      "text/plain": [
       "(53, 1)"
      ]
     },
     "execution_count": 29,
     "metadata": {},
     "output_type": "execute_result"
    }
   ],
   "source": [
    "sheet_to_df_map[\"part\"].shape"
   ]
  },
  {
   "cell_type": "code",
   "execution_count": 21,
   "metadata": {},
   "outputs": [],
   "source": [
    "concater=['part',\n",
    " 'delay',\n",
    " 'vehicle',\n",
    " 'discount',\n",
    " 'sound',\n",
    " 'batt',\n",
    " 'clutch',\n",
    " 'gear',\n",
    " 'heat',\n",
    " 'oil,air,engine,brake,pick',\n",
    " 'leak',\n",
    " 'service,serv',\n",
    " 'delivery',\n",
    " 'tyre,tyer,tire',\n",
    " 'KMPL,mileage,KMperL,average',\n",
    " 'staff',\n",
    " 'dealer',\n",
    " 'salesman,sales man,behaviour',\n",
    " 'sales',\n",
    " 'response']"
   ]
  },
  {
   "cell_type": "code",
   "execution_count": 23,
   "metadata": {},
   "outputs": [],
   "source": [
    "train=pd.concat([sheet_to_df_map[name] for name in concater])"
   ]
  },
  {
   "cell_type": "code",
   "execution_count": 25,
   "metadata": {},
   "outputs": [],
   "source": [
    "train.columns=[\"issue\"]"
   ]
  },
  {
   "cell_type": "code",
   "execution_count": 30,
   "metadata": {},
   "outputs": [
    {
     "name": "stdout",
     "output_type": "stream",
     "text": [
      "[nltk_data] Downloading package stopwords to\n",
      "[nltk_data]     C:\\Users\\yash\\AppData\\Roaming\\nltk_data...\n",
      "[nltk_data]   Package stopwords is already up-to-date!\n"
     ]
    }
   ],
   "source": [
    "import re\n",
    "import nltk\n",
    "nltk.download('stopwords')\n",
    "from nltk.corpus import stopwords\n",
    "from string import punctuation\n",
    "from nltk import word_tokenize\n",
    "STOPWORDS = set(stopwords.words('english'))"
   ]
  },
  {
   "cell_type": "code",
   "execution_count": 32,
   "metadata": {},
   "outputs": [],
   "source": [
    "REPLACE_BY_SPACE_RE = re.compile('[/(){}\\[\\]\\|@,;]')\n",
    "BAD_SYMBOLS_RE = re.compile('[^0-9a-z #+_]')\n",
    "STOPWORDS = set(stopwords.words('english'))\n",
    "\n",
    "def clean_text(text):\n",
    "    \"\"\"\n",
    "        text: a string\n",
    "        \n",
    "        return: modified initial string\n",
    "    \"\"\"\n",
    "    text = text.lower() # lowercase text\n",
    "    text = REPLACE_BY_SPACE_RE.sub(' ', text) # replace REPLACE_BY_SPACE_RE symbols by space in text. substitute the matched string in REPLACE_BY_SPACE_RE with space.\n",
    "    text = BAD_SYMBOLS_RE.sub('', text) # remove symbols which are in BAD_SYMBOLS_RE from text. substitute the matched string in BAD_SYMBOLS_RE with nothing. \n",
    "    text = text.replace('x', '')\n",
    "#    text = re.sub(r'\\W+', '', text)\n",
    "    text = ' '.join(word for word in text.split() if word not in STOPWORDS) # remove stopwors from text\n",
    "    return text"
   ]
  },
  {
   "cell_type": "code",
   "execution_count": 38,
   "metadata": {},
   "outputs": [],
   "source": [
    "def hasNumbers(inputString):\n",
    "    return bool(re.search(r'\\d', inputString))\n",
    "def space_number(text):\n",
    "    sp=text.split()\n",
    "    li1=[]\n",
    "    for word in sp:\n",
    "        if hasNumbers(word):\n",
    "            al=list(word)\n",
    "            li=[]\n",
    "            for alpha in al:\n",
    "                if hasNumbers(alpha):\n",
    "                    string_len=len(alpha)+2\n",
    "                    alpha=alpha.center(string_len)\n",
    "                    li.append(alpha)\n",
    "                else:\n",
    "                    li.append(alpha)\n",
    "                newli=\"\".join(li)\n",
    "            li1.append(newli)\n",
    "        else:\n",
    "            li1.append(word)\n",
    "    ret=\" \".join(li1)\n",
    "    return ret\n",
    "  "
   ]
  },
  {
   "cell_type": "code",
   "execution_count": 40,
   "metadata": {},
   "outputs": [],
   "source": [
    "train[\"issue\"]=train[\"issue\"].apply(clean_text)\n",
    "train[\"issue\"]=train[\"issue\"].apply(space_number)"
   ]
  },
  {
   "cell_type": "code",
   "execution_count": 41,
   "metadata": {},
   "outputs": [],
   "source": [
    "train.to_csv(\"input.csv\",index=False)"
   ]
  },
  {
   "cell_type": "code",
   "execution_count": null,
   "metadata": {},
   "outputs": [],
   "source": []
  }
 ],
 "metadata": {
  "kernelspec": {
   "display_name": "Python 3",
   "language": "python",
   "name": "python3"
  },
  "language_info": {
   "codemirror_mode": {
    "name": "ipython",
    "version": 3
   },
   "file_extension": ".py",
   "mimetype": "text/x-python",
   "name": "python",
   "nbconvert_exporter": "python",
   "pygments_lexer": "ipython3",
   "version": "3.6.5"
  }
 },
 "nbformat": 4,
 "nbformat_minor": 2
}
